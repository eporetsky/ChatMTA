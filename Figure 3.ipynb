{
 "cells": [
  {
   "cell_type": "code",
   "execution_count": 1,
   "id": "ec3baa7f",
   "metadata": {},
   "outputs": [],
   "source": [
    "import pickle\n",
    "import glob\n",
    "import json\n",
    "import time\n",
    "import pandas as pd\n",
    "import seaborn as sns\n",
    "from langchain.vectorstores import FAISS\n",
    "from langchain.embeddings.openai import OpenAIEmbeddings\n",
    "from langchain.chat_models import ChatOpenAI\n",
    "from langchain.chains import RetrievalQA\n",
    "from matplotlib import rcParams\n",
    "import matplotlib.pyplot as plt\n",
    "\n",
    "import os\n",
    "os.environ['OPENAI_API_KEY'] = ''"
   ]
  },
  {
   "cell_type": "markdown",
   "id": "9dd08c85",
   "metadata": {},
   "source": [
    "# Open the manuscript dictionaries to get DOIs"
   ]
  },
  {
   "cell_type": "code",
   "execution_count": 2,
   "id": "5ab568ef",
   "metadata": {},
   "outputs": [],
   "source": [
    "with open('data_input/scipdf.pkl', 'rb') as handle:\n",
    "    pdf_dict = pickle.load(handle)\n",
    "\n",
    "pdf_doi_dict = {}\n",
    "for pdf_name in pdf_dict.keys():\n",
    "    pdf_doi_dict[pdf_name.replace(\".pdf\", \"\")] = pdf_dict[pdf_name][\"doi\"]"
   ]
  },
  {
   "cell_type": "markdown",
   "id": "8296fb33",
   "metadata": {},
   "source": [
    "# Extract all trait information from the 36 manuscripts"
   ]
  },
  {
   "cell_type": "code",
   "execution_count": null,
   "id": "65ddfadb",
   "metadata": {},
   "outputs": [],
   "source": [
    "for model in [\"gpt-3.5-turbo\", \"gpt-4\"]:\n",
    "    trait_results = pd.DataFrame()\n",
    "    json_dict = {}\n",
    "    fail_list = []\n",
    "    for key in pdf_dict.keys():\n",
    "        embeddings = OpenAIEmbeddings()\n",
    "        key = key.replace(\".pdf\", \"\")\n",
    "        if key not in [\"agronomy-12-02839\"]:\n",
    "            continue\n",
    "\n",
    "        time.sleep(2)\n",
    "\n",
    "        db = FAISS.load_local(\"data_faiss/faiss_chunked/faiss_db_1000/{}\".format(key), embeddings, allow_dangerous_deserialization=True)\n",
    "        retriever = db.as_retriever(search_type=\"similarity_score_threshold\",\n",
    "                                    search_kwargs={\"score_threshold\": 0.5, \"k\": 25})\n",
    "\n",
    "        query = \"\"\"Find and extract all the traits that were measured in the provided genetic mapping manuscript. \\\n",
    "                Traits are defined as measured phenotypes, conditions and environments. \\\n",
    "                If a trait was measured using different methods, include each condition as a separate trait. \\\n",
    "                Only include trait abbreviation if it was used in the text, otherwise return 'None'. \\\n",
    "                Do not include traits that were referenced but not measured in this study. \n",
    "\n",
    "                Important - Respond in JSON format only, following the schema below:\n",
    "                    ```json\n",
    "                    {\n",
    "                    \"trait_name\": string  // full name of the measured trait, non-abbreviated,\n",
    "                    \"trait_abv\": string  // abbreviated trait name, only if provided, otherwise 'None'\n",
    "                    \"trait_description\": string // A description of the methods and conditions used to measure the trait\n",
    "                    }```\n",
    "                \"\"\"\n",
    "        \n",
    "        # Uncommend the LLM model you want to use for the RAG chain\n",
    "        llm = ChatOpenAI(model_name=model)\n",
    "        qa = RetrievalQA.from_chain_type(llm=llm, chain_type=\"stuff\", retriever=retriever, temperature=0.7)\n",
    "        marker_response = qa(query)\n",
    "\n",
    "        json_dict[key] = marker_response['result']\n",
    "\n",
    "        try:\n",
    "            response_string = marker_response['result']\n",
    "            response_string = response_string.split(\"```\")[1] if \"```\" in response_string else response_string\n",
    "            response_string = response_string.replace(\"```\", \"\")\n",
    "            response_string = response_string.replace(\"json\\n\", \"\")\n",
    "            response_string = response_string.replace(\"}\\n{\", \"},\\n{\")\n",
    "            response_string = response_string.replace(\"\\n}\\n}\\n\", \"\\n}\\n\")\n",
    "            response_string = response_string.replace(\"}\\n\", \"}\")\n",
    "\n",
    "            if \"[\" not in response_string:\n",
    "                response_string = \"[\" + response_string\n",
    "            if \"]\" not in response_string:\n",
    "                response_string = response_string + \"]\"\n",
    "\n",
    "            # Parse the JSON format and turn it into a pandas dataframe\n",
    "            response_json = json.loads(response_string)\n",
    "            tmp_df = pd.DataFrame(response_json)\n",
    "\n",
    "            # Add the PDF and DOI IDs so it is easier to keep track of\n",
    "            tmp_df[\"pdf\"] = key\n",
    "            tmp_df[\"doi\"] = pdf_doi_dict[key]\n",
    "            tmp_df[\"k\"] = 25\n",
    "            tmp_df[\"size\"] = 1000\n",
    "            trait_results = pd.concat([trait_results, tmp_df])\n",
    "            print(\"success,\"+key)\n",
    "        except:\n",
    "            print(\"fail,\"+key)\n",
    "            fail_list.append([key, marker_response['result']])\n",
    "    trait_results.to_csv(f\"data_output/traits/36.traits.{model}.tsv\", sep=\"\\t\", index=None)"
   ]
  },
  {
   "cell_type": "markdown",
   "id": "f34322b4",
   "metadata": {},
   "source": [
    "# Make Fog. 3B using all 36 papers"
   ]
  },
  {
   "cell_type": "code",
   "execution_count": 4,
   "id": "1fc732bf",
   "metadata": {},
   "outputs": [
    {
     "name": "stdout",
     "output_type": "stream",
     "text": [
      "         % correct\n",
      "Model             \n",
      "GPT-3.5  70.393222\n",
      "GPT-4    80.137108\n"
     ]
    },
    {
     "name": "stderr",
     "output_type": "stream",
     "text": [
      "/Users/eporetsky/mambaforge/envs/chatmta/lib/python3.10/site-packages/seaborn/categorical.py:3370: UserWarning: 16.7% of the points cannot be placed; you may want to decrease the size of the markers or use stripplot.\n",
      "  warnings.warn(msg, UserWarning)\n"
     ]
    },
    {
     "data": {
      "text/plain": [
       "<Axes: xlabel='Model', ylabel='% correct'>"
      ]
     },
     "execution_count": 4,
     "metadata": {},
     "output_type": "execute_result"
    },
    {
     "data": {
      "image/png": "[encoded data removed]",
      "text/plain": [
       "<Figure size 300x400 with 1 Axes>"
      ]
     },
     "metadata": {},
     "output_type": "display_data"
    }
   ],
   "source": [
    "true_traits = pd.read_csv(\"data_figures/36.traits.curated.tsv\", sep=\"\\t\", encoding = 'ISO-8859-1')\n",
    "true_traits = true_traits.groupby(\"doi\").count().reset_index()[[\"doi\", \"trait\"]]\n",
    "\n",
    "pred_traits = pd.read_csv(\"data_figures/36.traits.tsv\", sep=\"\\t\", encoding = 'ISO-8859-1')\n",
    "results = pred_traits.groupby([\"Model\",\"doi\"]).sum().reset_index()[[\"Model\", \"doi\", \"correct\"]]\n",
    "results = results.merge(true_traits, on=\"doi\", how=\"outer\")\n",
    "\n",
    "results = results.fillna(0) # out join with missing results returns NaN\n",
    "results['% correct'] = results[\"correct\"] / results[\"trait\"] * 100\n",
    "\n",
    "print(results[[\"Model\", \"% correct\"]].groupby(\"Model\").mean())\n",
    "plt.rcParams.update({'font.weight': 'bold', 'font.size': 13, \n",
    "                     'axes.labelweight': 'bold', 'axes.titleweight': 'bold'})\n",
    "fig, ax = plt.subplots(figsize=(3, 4))\n",
    "\n",
    "sns.barplot(data=results, x=\"Model\", y= \"% correct\", color=\"black\")\n",
    "sns.swarmplot(data=results, x=\"Model\", y= \"% correct\", color=\"orange\")"
   ]
  },
  {
   "cell_type": "markdown",
   "id": "84228168",
   "metadata": {},
   "source": [
    "# Make Fig. 3G"
   ]
  },
  {
   "cell_type": "code",
   "execution_count": 5,
   "id": "c86c7bb2",
   "metadata": {},
   "outputs": [
    {
     "data": {
      "text/plain": [
       "<matplotlib.legend.Legend at 0x130408f40>"
      ]
     },
     "execution_count": 5,
     "metadata": {},
     "output_type": "execute_result"
    },
    {
     "data": {
      "image/png": "[encoded data removed]",
      "text/plain": [
       "<Figure size 400x400 with 1 Axes>"
      ]
     },
     "metadata": {},
     "output_type": "display_data"
    }
   ],
   "source": [
    "#rcParams['figure.figsize'] = 5, 5\n",
    "plt.rcParams.update({'font.weight': 'bold', 'font.size': 13, \n",
    "                     'axes.labelweight': 'bold', 'axes.titleweight': 'bold'})\n",
    "fig, ax = plt.subplots(figsize=(4, 4))\n",
    "\n",
    "\n",
    "ped_df = [[\"GPT-3.5\", \"GPT-3.5\", \"GPT-4\", \"GPT-4\"], \n",
    "          [\"Peduncle\", \"Panicle\", \"Peduncle\", \"Panicle\"],\n",
    "          [14, 13, 27, 2]]\n",
    "ped_df = pd.DataFrame(ped_df).T\n",
    "ped_df.columns = [\"Model\", \"Trait\", \"Count\"]\n",
    "sns.barplot(ped_df, x=\"Model\", y=\"Count\", hue=\"Trait\")\n",
    "plt.legend(loc='upper left')"
   ]
  },
  {
   "cell_type": "markdown",
   "id": "27191831",
   "metadata": {},
   "source": [
    "# Analyze a single paper with different chunk sizes and K"
   ]
  },
  {
   "cell_type": "code",
   "execution_count": null,
   "id": "6f51ba88",
   "metadata": {},
   "outputs": [],
   "source": [
    "# Selected manuscript to analyze\n",
    "key = \"s00122-014-2435-3.pdf\"\n",
    "\n",
    "for model in [\"gpt-3.5-turbo\", \"gpt-4\"]:\n",
    "    trait_results = pd.DataFrame()\n",
    "    fail_list = []\n",
    "\n",
    "    for size in [250,500,750,1000]:\n",
    "        for k in [5,10,15,20,25]:\n",
    "            for rep in [1,2,3]:\n",
    "                time.sleep(2)\n",
    "                embeddings = OpenAIEmbeddings()\n",
    "                key = key.replace(\".pdf\", \"\")\n",
    "                db = FAISS.load_local(\"data_faiss/faiss_chunked/faiss_db_{}/{}\".format(size, key), embeddings,\n",
    "                                    allow_dangerous_deserialization=True)\n",
    "                \n",
    "                retriever = db.as_retriever(search_type=\"similarity_score_threshold\",\n",
    "                                            search_kwargs={\"score_threshold\": 0.5, \"k\": k})\n",
    "                \n",
    "                query = \"\"\"Find and extract all the traits that were measured in the provided genetic mapping manuscript. \\\n",
    "                        Traits are defined as measured phenotypes, conditions and environments. \\\n",
    "                        If a trait was measured using different methods, include each condition as a separate trait. \\\n",
    "                        Only include trait abbreviation if it was used in the text, otherwise return 'None'. \\\n",
    "                        Do not include traits that were referenced but not measured in this study. \n",
    "\n",
    "                        Important - Respond in JSON format only, following the schema below:\n",
    "                            ```json\n",
    "                            {\n",
    "                            \"trait_name\": string  // full name of the measured trait, non-abbreviated,\n",
    "                            \"trait_abv\": string  // abbreviated trait name, only if provided, otherwise 'None'\n",
    "                            \"trait_description\": string // A description of the methods and conditions used to measure the trait\n",
    "                            }```\n",
    "                        \"\"\"\n",
    "                # Uncommend the LLM model you want to use for the RAG chain\n",
    "                llm = ChatOpenAI(model_name=model) \n",
    "                qa = RetrievalQA.from_chain_type(llm=llm, chain_type=\"stuff\", retriever=retriever, temperature=0.7)\n",
    "                marker_response = qa(query)\n",
    "                \n",
    "                # Correct the returned JSON format based on observed errors\n",
    "                json_dict[key] = marker_response['result']\n",
    "                try:\n",
    "                    response_string = marker_response['result']\n",
    "                    response_string = response_string.split(\"```\")[1] if \"```\" in response_string else response_string\n",
    "                    response_string = response_string.replace(\"```\", \"\")\n",
    "                    response_string = response_string.replace(\"json\\n\", \"\")\n",
    "                    response_string = response_string.replace(\"}\\n{\", \"},\\n{\")\n",
    "                    response_string = response_string.replace(\"\\n}\\n}\\n\", \"\\n}\\n\")\n",
    "                    response_string = response_string.replace(\"}\\n\", \"}\")\n",
    "                    \n",
    "                    if \"[\" not in response_string:\n",
    "                        response_string = \"[\" + response_string\n",
    "                    if \"]\" not in response_string:\n",
    "                        response_string = response_string + \"]\"\n",
    "                    \n",
    "                    # Parse the JSON format and turn it into a pandas dataframe\n",
    "                    tmp_df = pd.DataFrame(response_json)\n",
    "                    \n",
    "                    tmp_df[\"pdf\"] = key\n",
    "                    tmp_df[\"doi\"] = pdf_doi_dict[key]\n",
    "                    tmp_df[\"k\"] = k\n",
    "                    tmp_df[\"rep\"] = rep\n",
    "                    tmp_df[\"size\"] = size\n",
    "                    trait_results = pd.concat([trait_results, tmp_df])\n",
    "                    print(\"success,\"+key)\n",
    "                except:\n",
    "                    print(\"fail,\"+key)\n",
    "                    fail_list.append([key, size, k, rep, marker_response['result']])\n",
    "    trait_results.to_csv(f\"data_output/traits/p2.traits.{model}.tsv\", sep=\"\\t\", index=None)"
   ]
  },
  {
   "cell_type": "code",
   "execution_count": null,
   "id": "56d8d7e4",
   "metadata": {},
   "outputs": [],
   "source": [
    "# The number of traits in the #2 manuscript\n",
    "true_traits = 16\n",
    "\n",
    "plt.rcParams.update({'font.weight': 'bold', 'font.size': 13, \n",
    "                     'axes.labelweight': 'bold', 'axes.titleweight': 'bold'})\n",
    "fig, ax = plt.subplots(figsize=(3.5, 3))\n",
    "\n",
    "trait_results = pd.read_csv(\"data_figures/p2.traits.gpt-3.5-turbo.tsv\" ,sep=\"\\t\")\n",
    "trait_results = trait_results[trait_results[\"correct\"]==1]\n",
    "trait_results = trait_results[[\"k\", \"rep\", \"size\", \"correct\"]].groupby([\"k\", \"rep\", \"size\"]).sum().reset_index()\n",
    "trait_results[\"correct\"] = trait_results[\"correct\"] / true_traits * 100\n",
    "trait_results.columns = [\"K Size\", \"rep\", \"Chunk Size\", \"% correct\"]\n",
    "ax = sns.barplot(data=trait_results, x=\"Chunk Size\", y=\"% correct\", hue=\"K Size\", errorbar=\"sd\")\n",
    "ax.get_legend().remove()\n",
    "ax.set_title(\"GPT-3.5\")\n",
    "plt.ylim(0, 110)"
   ]
  },
  {
   "cell_type": "code",
   "execution_count": null,
   "id": "cc7b4ddc",
   "metadata": {},
   "outputs": [
    {
     "data": {
      "text/plain": [
       "<matplotlib.legend.Legend at 0x131157df0>"
      ]
     },
     "execution_count": 47,
     "metadata": {},
     "output_type": "execute_result"
    },
    {
     "data": {
      "image/png": "[encoded data removed]",
      "text/plain": [
       "<Figure size 350x300 with 1 Axes>"
      ]
     },
     "metadata": {},
     "output_type": "display_data"
    }
   ],
   "source": [
    "true_traits = 16\n",
    "\n",
    "plt.rcParams.update({'font.weight': 'bold', 'font.size': 13, \n",
    "                     'axes.labelweight': 'bold', 'axes.titleweight': 'bold'})\n",
    "fig, ax = plt.subplots(figsize=(3.5, 3))\n",
    "\n",
    "trait_results = pd.read_csv(\"data_figures/p2.traits.gpt-4.tsv\" ,sep=\"\\t\")\n",
    "\n",
    "trait_results = trait_results[trait_results[\"correct\"]==1]\n",
    "trait_results = trait_results[[\"k\", \"rep\", \"size\", \"correct\"]].groupby([\"k\", \"rep\", \"size\"]).sum().reset_index()\n",
    "trait_results[\"correct\"] = trait_results[\"correct\"] / true_traits * 100\n",
    "trait_results.columns = [\"Top-k Size\", \"rep\", \"Chunk Size\", \"% correct\"]\n",
    "ax = sns.barplot(data=trait_results, x=\"Chunk Size\", y=\"% correct\", hue=\"Top-k Size\", errorbar=\"sd\")\n",
    "ax.set_title(\"GPT-4\")\n",
    "plt.ylim(0, 110)\n",
    "\n",
    "plt.legend(title=\"Top-k Size\", prop={'size': 10}, # loc='upper left', \n",
    "           bbox_to_anchor=(1.05, 1), loc=2, borderaxespad=0.)"
   ]
  }
 ],
 "metadata": {
  "kernelspec": {
   "display_name": "Python 3 (ipykernel)",
   "language": "python",
   "name": "python3"
  },
  "language_info": {
   "codemirror_mode": {
    "name": "ipython",
    "version": 3
   },
   "file_extension": ".py",
   "mimetype": "text/x-python",
   "name": "python",
   "nbconvert_exporter": "python",
   "pygments_lexer": "ipython3",
   "version": "3.10.15"
  }
 },
 "nbformat": 4,
 "nbformat_minor": 5
}
