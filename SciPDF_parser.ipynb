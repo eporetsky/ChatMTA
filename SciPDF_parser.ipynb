{
 "cells": [
  {
   "cell_type": "code",
   "execution_count": null,
   "id": "c4617720",
   "metadata": {},
   "outputs": [],
   "source": [
    "import pickle\n",
    "import glob\n",
    "import scipdf"
   ]
  },
  {
   "cell_type": "code",
   "execution_count": null,
   "id": "eb0385a0",
   "metadata": {},
   "outputs": [],
   "source": [
    "# Install the spacy model for SciPDF\n",
    "!python -m spacy download en_core_web_sm"
   ]
  },
  {
   "cell_type": "markdown",
   "id": "6a47c3f4",
   "metadata": {},
   "source": [
    "# Parse all the PDFs in the folder\n",
    "\n",
    "Tu run SciPDF (https://github.com/titipata/scipdf_parser), `GROBID` needs to be running in the background. \\\n",
    "The simplest way is to use Docker. Make sure that Docker is available on your computer and run the following command to start GROBID: \\\n",
    "```docker run --rm --init --ulimit core=0 -p 8070:8070 lfoppiano/grobid:0.7.3```\n"
   ]
  },
  {
   "cell_type": "markdown",
   "id": "f2ad562c",
   "metadata": {},
   "source": [
    "# Run SciPDF and save results in dictionary"
   ]
  },
  {
   "cell_type": "code",
   "execution_count": null,
   "id": "927c5866",
   "metadata": {
    "scrolled": true
   },
   "outputs": [],
   "source": [
    "pdf_dict = {}\n",
    "for fl in glob.glob(\"pdfs/*\"):\n",
    "    name = fl.replace(\"pdfs/\", \"\")\n",
    "    tmp = scipdf.parse_pdf_to_dict(fl)\n",
    "    pdf_dict[name] = tmp\n",
    "    print(fl, tmp['doi'], tmp['title'], \"\\n\")"
   ]
  },
  {
   "cell_type": "markdown",
   "id": "2be397d2",
   "metadata": {},
   "source": [
    "# Save the dictionary as a Python Pickle file"
   ]
  },
  {
   "cell_type": "code",
   "execution_count": null,
   "id": "a7b0ffcb",
   "metadata": {},
   "outputs": [],
   "source": [
    "with open('data_input/scipdf.pkl', 'wb') as handle:\n",
    "    pickle.dump(pdf_dict, handle, protocol=pickle.HIGHEST_PROTOCOL)"
   ]
  }
 ],
 "metadata": {
  "kernelspec": {
   "display_name": "chatmta",
   "language": "python",
   "name": "python3"
  },
  "language_info": {
   "codemirror_mode": {
    "name": "ipython",
    "version": 3
   },
   "file_extension": ".py",
   "mimetype": "text/x-python",
   "name": "python",
   "nbconvert_exporter": "python",
   "pygments_lexer": "ipython3",
   "version": "3.10.15"
  }
 },
 "nbformat": 4,
 "nbformat_minor": 5
}
