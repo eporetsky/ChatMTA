{
 "cells": [
  {
   "cell_type": "code",
   "execution_count": null,
   "id": "c4617720",
   "metadata": {},
   "outputs": [],
   "source": [
    "import pickle\n",
    "import glob\n",
    "import scipdf"
   ]
  },
  {
   "cell_type": "markdown",
   "id": "6a47c3f4",
   "metadata": {},
   "source": [
    "# Parse all the PDFs in the folder\n",
    "\n",
    "Tu run SciPDF (https://github.com/titipata/scipdf_parser), \\\n",
    "`grobid` needs to be running in the background:\n",
    "\n",
    "```bash serve_grobid.sh```\n"
   ]
  },
  {
   "cell_type": "markdown",
   "id": "f2ad562c",
   "metadata": {},
   "source": [
    "# Run SciPDF and save results in dictionary"
   ]
  },
  {
   "cell_type": "code",
   "execution_count": null,
   "id": "927c5866",
   "metadata": {
    "scrolled": true
   },
   "outputs": [],
   "source": [
    "pdf_dict = {}\n",
    "for fl in glob.glob(\"pdfs/*\"):\n",
    "    name = fl.replace(\"pdfs/\", \"\")\n",
    "    tmp = scipdf.parse_pdf_to_dict(fl)\n",
    "    pdf_dict[name] = tmp\n",
    "    print(fl, tmp['doi'])"
   ]
  },
  {
   "cell_type": "markdown",
   "id": "2be397d2",
   "metadata": {},
   "source": [
    "# Save the dictionary as a Python Pickle file"
   ]
  },
  {
   "cell_type": "code",
   "execution_count": null,
   "id": "a7b0ffcb",
   "metadata": {},
   "outputs": [],
   "source": [
    "with open('data_input/scipdf.pkl', 'wb') as handle:\n",
    "    pickle.dump(a, handle, protocol=pickle.HIGHEST_PROTOCOL)"
   ]
  }
 ],
 "metadata": {
  "kernelspec": {
   "display_name": "Python 3 (ipykernel)",
   "language": "python",
   "name": "python3"
  },
  "language_info": {
   "codemirror_mode": {
    "name": "ipython",
    "version": 3
   },
   "file_extension": ".py",
   "mimetype": "text/x-python",
   "name": "python",
   "nbconvert_exporter": "python",
   "pygments_lexer": "ipython3",
   "version": "3.11.5"
  }
 },
 "nbformat": 4,
 "nbformat_minor": 5
}
