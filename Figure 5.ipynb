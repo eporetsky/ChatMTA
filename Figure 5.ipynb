{
 "cells": [
  {
   "cell_type": "code",
   "execution_count": 1,
   "id": "4fa29b38",
   "metadata": {},
   "outputs": [],
   "source": [
    "import pickle\n",
    "import time\n",
    "import numpy as np\n",
    "import pandas as pd\n",
    "import seaborn as sns\n",
    "import matplotlib.pyplot as plt\n",
    "from langchain_community.chat_models import ChatOpenAI\n",
    "from langchain_experimental.agents import create_pandas_dataframe_agent\n",
    "\n",
    "import os\n",
    "os.environ['OPENAI_API_KEY'] = \"key\""
   ]
  },
  {
   "cell_type": "markdown",
   "id": "ee024077",
   "metadata": {},
   "source": [
    "# Read the complete MTA/QTL marker file for the 21 manuscripts"
   ]
  },
  {
   "cell_type": "code",
   "execution_count": 2,
   "id": "18954165",
   "metadata": {
    "scrolled": true
   },
   "outputs": [],
   "source": [
    "df = pd.read_csv(\"data_input/markers/all_QTL_markers_EP.txt\", sep=\"\\t\")"
   ]
  },
  {
   "cell_type": "markdown",
   "id": "baaee1d6",
   "metadata": {},
   "source": [
    "# Prompt the LLMs to extract relevant data from curated results "
   ]
  },
  {
   "cell_type": "code",
   "execution_count": null,
   "id": "b3cbbb76",
   "metadata": {},
   "outputs": [],
   "source": [
    "for rep in [1,2,3]:\n",
    "    for model in [\"gpt-3.5-turbo-1106\", \"gpt-4\"]:\n",
    "        llm = ChatOpenAI(model_name=model)\n",
    "        agent = create_pandas_dataframe_agent(llm, df, verbose=False)\n",
    "        \n",
    "        agent.run(\"\"\"Identify all trait QTLs related to plant response to disease or disease resistance. \\\n",
    "                     Filter table to include only relevant traits and keep all columns. \\\n",
    "                     Write the results to data_output/extract/all.minimal.{}.{}.tsv\"\"\".format(rep, model))\n",
    "\n",
    "        agent.run(\"\"\"Identify all trait QTLs related to plant response to disease or disease resistance. \\\n",
    "                     Filter table to include only relevant traits and keep all columns. \\\n",
    "                     Write the results to data_output/extract/range.minimal.{}.{}.tsv\"\"\".format(rep, model))\n",
    "        \n",
    "        agent.run(\"\"\"Identify all trait QTLs related to plant response to disease or disease resistance. \\\n",
    "                     To do this, check the unique values in the 'trait' column and guess based on your general knowledge. Use the 'chr', 'start', and 'end' columns to get information about the genomic location.\n",
    "                     Filter table to include only relevant traits and keep all columns. \\\n",
    "                     Write the results to data_output/extract/all.knowledge.{}.{}.tsv\"\"\".format(rep, model))\n",
    "\n",
    "        agent.run(\"\"\"Identify all trait QTLs related to plant response to disease or disease resistance. \\\n",
    "                     To do this, check the unique values in the 'trait' column and guess based on your general knowledge. Use the 'chr', 'start', and 'end' columns to get information about the genomic location.\n",
    "                     Range: Include only traits with QTLs located on chromosome 2B between 50mbp and 700mbp.\n",
    "                     Filter table to include only relevant traits and keep all columns. \\\n",
    "                     Write the results to data_output/extract/range.knowledge.{}.{}.tsv\"\"\".format(rep, model))"
   ]
  },
  {
   "cell_type": "markdown",
   "id": "5cd4aa39",
   "metadata": {},
   "source": [
    "# Plot results of extracted data"
   ]
  },
  {
   "cell_type": "code",
   "execution_count": 3,
   "id": "49cf16b7",
   "metadata": {
    "scrolled": true
   },
   "outputs": [],
   "source": [
    "biotic_true = pd.read_csv(\"data_input/biotic_QTLs.tsv\", sep=\"\\t\")\n",
    "biotic_true = biotic_true[biotic_true[\"Biotic\"]==1]\n",
    "all_biotic_set = set(biotic_true[\"QTL\"].tolist())\n",
    "range_biotic_true = biotic_true[(biotic_true['Chr'] == 'chr2B') & (biotic_true['Start'] >= 50000000) & (biotic_true['End'] <= 700000000)]\n",
    "range_biotic_set = set(range_biotic_true[\"QTL\"].tolist())"
   ]
  },
  {
   "cell_type": "code",
   "execution_count": 4,
   "id": "e29792d1",
   "metadata": {},
   "outputs": [
    {
     "data": {
      "image/png": "[encoded data removed]",
      "text/plain": [
       "<Figure size 800x300 with 2 Axes>"
      ]
     },
     "metadata": {},
     "output_type": "display_data"
    }
   ],
   "source": [
    "fig, ax = plt.subplots(1, 2, figsize=(8,3), sharex=True)\n",
    "\n",
    "plt.rcParams.update({'font.weight': 'bold', 'axes.labelweight': 'bold', 'axes.titleweight': 'bold'})\n",
    "\n",
    "outputlist = []\n",
    "for mode in [\"minimal\", \"knowledge\"]:\n",
    "    for rep in [1,2,3]:\n",
    "        for x in [\"all\", \"range\"]:\n",
    "            if x == \"all\":\n",
    "                true_set = all_biotic_set\n",
    "            else:\n",
    "                true_set = range_biotic_set\n",
    "            output_df = pd.read_csv(\"data_output/extract/{}.{}.{}.gpt-4.tsv\".format(x, mode, rep), sep=\"\\t\")\n",
    "            if \"QTL\" in output_df.columns:\n",
    "                output_set = set(output_df[\"QTL\"].tolist())\n",
    "            outputlist.append([\"gpt4\", mode, rep, x, \n",
    "                              len(output_set), \n",
    "                              np.round(len(output_set.intersection(true_set)) / len(true_set) * 100, 2),\n",
    "                              len(output_set.difference(true_set))])\n",
    "outputlist = pd.DataFrame(outputlist)\n",
    "outputlist.columns = [\"model\", \"Prompt\", \"rep\", \"Selected Range\", \"len_out\", \"% correct\", \"# incorrect\"]\n",
    "mapping = {\"minimal\": '- Instructions', \"knowledge\": '+ Instructions', \"all\": \"Full\", \"range\":\"Range\"}\n",
    "outputlist = outputlist.replace(mapping)\n",
    "\n",
    "ax1 = sns.barplot(data=outputlist, x=\"Selected Range\", y=\"% correct\", hue=\"Prompt\", ax=ax[1])\n",
    "ax[1].set_ylim([0,110])\n",
    "ax1.get_legend().remove()\n",
    "ax1.set_title(\"GPT4\")\n",
    "ax1.set_ylabel(\"\")\n",
    "\n",
    "outputlist = []\n",
    "for mode in [\"minimal\", \"knowledge\"]:\n",
    "    for rep in [1,2,3]:\n",
    "        for x in [\"all\", \"range\"]:\n",
    "            if x == \"all\":\n",
    "                true_set = all_biotic_set\n",
    "            else:\n",
    "                true_set = range_biotic_set\n",
    "            output_df = pd.read_csv(\"data_output/extract/{}.{}.{}.gpt-3.5-turbo-1106.tsv\".format(x, mode, rep), sep=\"\\t\")\n",
    "            if \"QTL\" in output_df.columns:\n",
    "                output_set = set(output_df[\"QTL\"].tolist())\n",
    "            outputlist.append([\"gpt3.5\", mode, rep, x, \n",
    "                              len(output_set), \n",
    "                              np.round(len(output_set.intersection(true_set)) / len(true_set) * 100, 2),\n",
    "                              len(output_set.difference(true_set))])\n",
    "outputlist = pd.DataFrame(outputlist)\n",
    "outputlist.columns = [\"model\", \"Prompt\", \"rep\", \"Selected Range\", \"len_out\", \"% correct\", \"# incorrect\"]\n",
    "mapping = {\"minimal\": 'Minimal', \"knowledge\": 'Instructions', \"all\": \"Full\", \"range\":\"Range\"}\n",
    "outputlist = outputlist.replace(mapping)\n",
    "\n",
    "ax2 = sns.barplot(data=outputlist, x=\"Selected Range\", y=\"% correct\", hue=\"Prompt\", ax=ax[0])\n",
    "ax[0].set_ylim([0,110])\n",
    "ax2.set_title(\"GPT3.5\")\n",
    "ax2.get_legend().remove()\n",
    "ax2.set_ylabel(\"% correct\")\n",
    "\n",
    "ax1.legend(title=\"Prompt\", prop={'size': 10},\n",
    "           bbox_to_anchor=(1.05, 1), loc=2, borderaxespad=0.)\n",
    "plt.show()"
   ]
  }
 ],
 "metadata": {
  "kernelspec": {
   "display_name": "Python 3 (ipykernel)",
   "language": "python",
   "name": "python3"
  },
  "language_info": {
   "codemirror_mode": {
    "name": "ipython",
    "version": 3
   },
   "file_extension": ".py",
   "mimetype": "text/x-python",
   "name": "python",
   "nbconvert_exporter": "python",
   "pygments_lexer": "ipython3",
   "version": "3.11.5"
  }
 },
 "nbformat": 4,
 "nbformat_minor": 5
}
