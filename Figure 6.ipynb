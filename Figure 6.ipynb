{
 "cells": [
  {
   "cell_type": "code",
   "execution_count": null,
   "id": "4fa29b38",
   "metadata": {},
   "outputs": [],
   "source": [
    "import pickle\n",
    "import time\n",
    "import numpy as np\n",
    "import pandas as pd\n",
    "import seaborn as sns\n",
    "import matplotlib.pyplot as plt\n",
    "from langchain_community.chat_models import ChatOpenAI\n",
    "from langchain_experimental.agents import create_pandas_dataframe_agent\n",
    "\n",
    "import os\n",
    "os.environ['OPENAI_API_KEY'] = ''"
   ]
  },
  {
   "cell_type": "markdown",
   "id": "fd77159c",
   "metadata": {},
   "source": [
    "# Read the complete MTA/QTL marker file for the 21 manuscripts"
   ]
  },
  {
   "cell_type": "code",
   "execution_count": null,
   "id": "18954165",
   "metadata": {
    "scrolled": true
   },
   "outputs": [],
   "source": [
    "df = pd.read_csv(\"data_input/markers/all_QTL_markers.txt\", sep=\"\\t\")"
   ]
  },
  {
   "cell_type": "markdown",
   "id": "df3c860e",
   "metadata": {},
   "source": [
    "# Prompt the LLMs to write a nerative based on curated results"
   ]
  },
  {
   "cell_type": "code",
   "execution_count": null,
   "id": "69f44137",
   "metadata": {},
   "outputs": [],
   "source": [
    "response_dict = {}\n",
    "for model_name in [\"gpt-3.5-turbo-1106\", \"gpt-4\"]:\n",
    "    llm = ChatOpenAI(model_name=model_name)\n",
    "    agent = create_pandas_dataframe_agent(llm, df, verbose=False)\n",
    "    for rep in [1,2,3]:\n",
    "        time.sleep(2)\n",
    "        response = agent.run(\"\"\"Your task is to extract information about genetic mapping results associated with particular trait QTLs. \\\n",
    "                                In this case, the traits should only be related to plant response to disease or disease resistance. \\\n",
    "                                Use the 'chr', 'start', and 'end' columns to get information about the genomic location. \\\n",
    "                                Write a detailed description of all the extracted traits.\"\"\")\n",
    "        response_dict[\"{}_{}_minimal\".format(model_name, rep)] = response\n",
    "        time.sleep(2)\n",
    "        response = agent.run(\"\"\"Your task is to extract information about genetic mapping results associated with particular trait QTLs. \\\n",
    "                                In this case, the traits should only be related to plant response to disease or disease resistance. \\\n",
    "                                To do this, check the unique values in the 'trait' column and guess based on your general knowledge. \\\n",
    "                                Use the 'chr', 'start', and 'end' columns to get information about the genomic location. \\\n",
    "                                Write a detailed description of all the extracted traits.\"\"\")\n",
    "        response_dict[\"{}_{}_instructions\".format(model_name, rep)] = response\n",
    "\n",
    "for model_name in [\"gpt-3.5-turbo-1106\", \"gpt-4\"]:\n",
    "    llm = ChatOpenAI(model_name=model_name)\n",
    "    agent = create_pandas_dataframe_agent(llm, df, verbose=False)\n",
    "    for rep in [1,2,3]:\n",
    "        time.sleep(2)\n",
    "        response = agent.run(\"\"\"Your task is to extract information about genetic mapping results associated with particular trait QTLs. \\\n",
    "                                In this case, the traits should only be related to plant response to disease or disease resistance. \\\n",
    "                                Use the 'chr', 'start', and 'end' columns to get information about the genomic location. \\\n",
    "                                Range: Include only traits with QTLs located on chromosome 2B between 50mbp and 700mbp. \\\n",
    "                                Write a detailed description of all the extracted traits.\"\"\")\n",
    "        response_dict[\"{}_{}_range_minimal\".format(model_name, rep)] = response\n",
    "        \n",
    "        time.sleep(2)\n",
    "        response = agent.run(\"\"\"Your task is to extract information about genetic mapping results associated with particular trait QTLs. \\\n",
    "                                In this case, the traits should only be related to plant response to disease or disease resistance. \\\n",
    "                                To do this, check the unique values in the 'trait' column and guess based on your general knowledge. \\\n",
    "                                Use the 'chr', 'start', and 'end' columns to get information about the genomic location. \\\n",
    "                                Range: Include only traits with QTLs located on chromosome 2B between 50mbp and 700mbp. \\\n",
    "                                Write a detailed description of all the extracted traits.\"\"\")\n",
    "        response_dict[\"{}_{}_range_instructions\".format(model_name, rep)] = response\n",
    "        \n",
    "with open('data_output/pickles/gpt_nerrative_results.pkl', 'wb') as handle:\n",
    "    pickle.dump(response_dict, handle, protocol=pickle.HIGHEST_PROTOCOL)"
   ]
  },
  {
   "cell_type": "markdown",
   "id": "db695544",
   "metadata": {},
   "source": [
    "# Plot length of nerrated responses"
   ]
  },
  {
   "cell_type": "code",
   "execution_count": null,
   "id": "311f4d5f",
   "metadata": {},
   "outputs": [],
   "source": [
    "with open('data_figures/gpt.nerrative.results.pkl', 'rb') as handle:\n",
    "    response_dict = pickle.load(handle)\n",
    "\n",
    "model_dict_convert = {\"gpt-3.5-turbo-1106\": \"GPT3.5\",\n",
    "                      \"gpt-4\": \"GPT4\"}\n",
    "\n",
    "# Generate the length table\n",
    "response_list = []\n",
    "for key, item in response_dict.items():\n",
    "    range_type = \"Range\" if \"range\" in key else \"Full\"\n",
    "    response_list.append([model_dict_convert[key.split(\"_\")[0]],\n",
    "                          key.split(\"_\")[1],\n",
    "                          len(item),\n",
    "                          range_type,\n",
    "                          \"- Instructions\" if \"minimal\" in key.split(\"_\")[-1] else \"+ Instructions\"])\n",
    "    \n",
    "response_df = pd.DataFrame(response_list)\n",
    "response_df.columns = [\"Model\", \"rep\", \"Response Length\", \"Selected Range\", \"Prompt\"]"
   ]
  },
  {
   "cell_type": "code",
   "execution_count": null,
   "id": "7724eeef",
   "metadata": {},
   "outputs": [],
   "source": [
    "response_df_gpt3 = response_df[response_df[\"Model\"]==\"GPT3.5\"]\n",
    "response_df_gpt4 = response_df[response_df[\"Model\"]==\"GPT4\"]\n",
    "\n",
    "fig, ax = plt.subplots(1,2, figsize=(9,3), sharey=False)\n",
    "\n",
    "plt.rcParams.update({'font.weight': 'bold', 'axes.labelweight': 'bold', 'axes.titleweight': 'bold'})\n",
    "\n",
    "ax1 = sns.barplot(data=response_df_gpt3, x=\"Selected Range\", y=\"Response Length\", hue=\"Prompt\", ax=ax[0])\n",
    "ax[0].set_ylim([0,2000])\n",
    "ax2 = sns.barplot(data=response_df_gpt4, x=\"Selected Range\", y=\"Response Length\", hue=\"Prompt\", ax=ax[1])\n",
    "ax[1].set_ylim([0,2000])\n",
    "ax1.set_title(\"GPT-3.5\")\n",
    "ax1.set_ylabel(\"Response Length\")\n",
    "ax2.set_title(\"GPT-4\")\n",
    "ax2.set_ylabel(\"\")\n",
    "ax2.get_legend().remove()\n",
    "plt.show()"
   ]
  }
 ],
 "metadata": {
  "kernelspec": {
   "display_name": "Python 3 (ipykernel)",
   "language": "python",
   "name": "python3"
  },
  "language_info": {
   "codemirror_mode": {
    "name": "ipython",
    "version": 3
   },
   "file_extension": ".py",
   "mimetype": "text/x-python",
   "name": "python",
   "nbconvert_exporter": "python",
   "pygments_lexer": "ipython3",
   "version": "3.10.15"
  }
 },
 "nbformat": 4,
 "nbformat_minor": 5
}
