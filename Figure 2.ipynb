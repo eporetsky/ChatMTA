{
 "cells": [
  {
   "cell_type": "code",
   "execution_count": null,
   "id": "0f4f9664",
   "metadata": {},
   "outputs": [],
   "source": [
    "import os\n",
    "import pickle\n",
    "import pandas as pd\n",
    "import numpy as np\n",
    "import seaborn as sns\n",
    "import matplotlib.pyplot as plt\n",
    "from matplotlib import rcParams\n",
    "from sklearn.decomposition import PCA\n",
    "from langchain.embeddings.openai import OpenAIEmbeddings\n",
    "from langchain.chat_models import ChatOpenAI\n",
    "from langchain.chains import RetrievalQA\n",
    "from langchain.vectorstores import FAISS\n",
    "\n",
    "os.environ['OPENAI_API_KEY'] = ''"
   ]
  },
  {
   "cell_type": "markdown",
   "id": "91c5a8de",
   "metadata": {},
   "source": [
    "# Load the dictionary containing the parsed manuscript PDFs"
   ]
  },
  {
   "cell_type": "code",
   "execution_count": null,
   "id": "e126fdba",
   "metadata": {},
   "outputs": [],
   "source": [
    "with open('data_input/scipdf.pkl', 'rb') as handle:\n",
    "    pdf_dict = pickle.load(handle)\n",
    "\n",
    "pdf_doi_dict = {}\n",
    "for pdf_name in pdf_dict.keys():\n",
    "    pdf_doi_dict[pdf_name.replace(\".pdf\", \"\")] = pdf_dict[pdf_name][\"doi\"]"
   ]
  },
  {
   "cell_type": "markdown",
   "id": "fdfd1d0e",
   "metadata": {},
   "source": [
    "# Load the FAISS embedding vector database"
   ]
  },
  {
   "cell_type": "code",
   "execution_count": null,
   "id": "30c74dcf",
   "metadata": {},
   "outputs": [],
   "source": [
    "# The embedding function to use\n",
    "embeddings = OpenAIEmbeddings()\n",
    "\n",
    "# Read the vectorstore object\n",
    "db = FAISS.load_local(\"data_faiss/abstracts/\", embeddings,\n",
    "                      allow_dangerous_deserialization=True)"
   ]
  },
  {
   "cell_type": "markdown",
   "id": "df532286",
   "metadata": {},
   "source": [
    "# Part 1 - LLM-based trait-category classification"
   ]
  },
  {
   "cell_type": "code",
   "execution_count": null,
   "id": "c2b723f2",
   "metadata": {},
   "outputs": [],
   "source": [
    "trait_class = pd.read_csv(\"data_figures/36.abstract.curated.tsv\", sep=\"\\t\")\n",
    "col_name = \"Secondary\" # \"Traits\"\n",
    "trait_class_dict = trait_class.set_index('PDF')[col_name].to_dict()\n",
    "\n",
    "for model in [\"gpt-3.5-turbo-1106\", \"gpt-4\"]:\n",
    "    response_list = []\n",
    "    for key, val in pdf_dict.items():\n",
    "        key = key.replace(\".pdf\", \"\")\n",
    "        embeddings = OpenAIEmbeddings()\n",
    "        db = FAISS.load_local(\"data_faiss/abstracts/{}\".format(key), embeddings,\n",
    "                                allow_dangerous_deserialization=True)\n",
    "        retriever = db.as_retriever()\n",
    "\n",
    "        query = \"\"\"You are provided with an abstract of a research paper dealing with genetic mapping results. \\\n",
    "                    Your goal is to categorize the research paper based on the types of traits that were measured. \\\n",
    "                    You are to choose from the following categories:\n",
    "                        - Agronomic \\\n",
    "                        - Abiotic \\\n",
    "                        - Biotic \\\n",
    "                    Select only a single category that best describes the manuscript. \\\n",
    "                    Your response should only include the name of the category and no other information.\n",
    "                \"\"\"\n",
    "        \n",
    "        llm = ChatOpenAI(model_name=model)\n",
    "        qa = RetrievalQA.from_chain_type(llm=llm, chain_type=\"stuff\", retriever=retriever, temperature=0.7)\n",
    "        abstract_response = qa(query)\n",
    "        response_list.append([key, pdf_doi_dict[key], trait_class_dict[key], abstract_response['result']])\n",
    "    \n",
    "    output_df = pd.DataFrame(response_list)\n",
    "    output_df.columns = [\"id\", \"doi\", \"label\", \"pred\"]\n",
    "    output_df.to_csv(f\"data_output/abstracts/36.abstracts.{model}.tsv\", sep=\"\\t\")"
   ]
  },
  {
   "cell_type": "code",
   "execution_count": null,
   "id": "cbc5a9d0",
   "metadata": {},
   "outputs": [],
   "source": [
    "# figure size in inches\n",
    "plt.rcParams.update({'font.weight': 'bold', 'font.size': 13, \n",
    "                     'axes.labelweight': 'bold', 'axes.titleweight': 'bold'})\n",
    "fig, ax = plt.subplots(figsize=(3, 4))\n",
    "\n",
    "results = pd.read_csv(\"data_figures/36.abstract.tsv\", sep=\"\\t\")\n",
    "results[\"correct\"] = results[\"correct\"] * 100\n",
    "results = results.groupby([\"Model\", \"doi\"]).mean()\n",
    "results = results.reset_index()\n",
    "results.columns = [\"Model\", \"doi\", \"% correct\"]\n",
    "print(results[[\"Model\", \"% correct\"]].groupby(\"Model\").mean())\n",
    "\n",
    "sns.barplot(data=results, x=\"Model\", y= \"% correct\", color=\"black\")"
   ]
  },
  {
   "cell_type": "markdown",
   "id": "ffc8c8dd",
   "metadata": {},
   "source": [
    "# Part 2 - Classification based on PCA of abstract embedding vectors"
   ]
  },
  {
   "cell_type": "markdown",
   "id": "167d4d6f",
   "metadata": {},
   "source": [
    "# Load the abstract class data"
   ]
  },
  {
   "cell_type": "code",
   "execution_count": null,
   "id": "64675bc0",
   "metadata": {},
   "outputs": [],
   "source": [
    "trait_class = pd.read_csv(\"data_figures/36.abstract.curated.tsv\", sep=\"\\t\")\n",
    "col_name = \"Secondary\" # \"Traits\"\n",
    "trait_class_dict = trait_class.set_index('PDF')[col_name].to_dict()\n",
    "\n",
    "from random import randint\n",
    "trait_classes = trait_class[col_name].unique().tolist()\n",
    "color_dict = {}\n",
    "n = len(trait_classes)\n",
    "for i, val in enumerate(trait_classes):\n",
    "    color_dict[val] = '#%06X' % randint(0, 0xFFFFFF)"
   ]
  },
  {
   "cell_type": "markdown",
   "id": "48d96e31",
   "metadata": {},
   "source": [
    "# Get the embedding vector for all abstracts"
   ]
  },
  {
   "cell_type": "code",
   "execution_count": null,
   "id": "d81b9d85",
   "metadata": {},
   "outputs": [],
   "source": [
    "def get_faiss_embeddings(faiss_db_name):\n",
    "    emb_df = pd.DataFrame()\n",
    "    key_list = []\n",
    "    for key in pdf_dict.keys():\n",
    "        # The embedding function to use\n",
    "        embeddings = OpenAIEmbeddings()\n",
    "        key = key.replace(\".pdf\", \"\")\n",
    "        db = FAISS.load_local(faiss_db_name, embeddings,\n",
    "                              allow_dangerous_deserialization=True)\n",
    "        emb = [db.index.reconstruct_n(idx, 1)[0] for idx in range(db.index.ntotal)]\n",
    "        key_list.append(key)\n",
    "    emb_df = pd.concat([emb_df, pd.DataFrame(emb)])\n",
    "    emb_df.index = key_list\n",
    "    return(emb_df)\n",
    "\n",
    "emb_df = get_faiss_embeddings(\"data_faiss/abstracts\")"
   ]
  },
  {
   "cell_type": "markdown",
   "id": "86d529e0",
   "metadata": {},
   "source": [
    "# Generate the PCA plot"
   ]
  },
  {
   "cell_type": "code",
   "execution_count": null,
   "id": "653c2363",
   "metadata": {},
   "outputs": [],
   "source": [
    "#https://stackoverflow.com/questions/20126061/creating-a-confidence-ellipse-in-a-scatterplot-using-matplotlib\n",
    "\n",
    "pca = PCA(n_components=2)\n",
    "pca = pca.fit_transform(np.array(emb_df))\n",
    "\n",
    "pdf_doi = list(emb_df.index)\n",
    "pdf_class  = [trait_class_dict[ix] for ix in emb_df.index]\n",
    "pdf_colors = [color_dict[trait_class_dict[ix]] for ix in emb_df.index]\n",
    "\n",
    "test = pd.DataFrame([pca[:, 0], pca[:, 1]]).T\n",
    "test.columns = [\"PC1\", \"PC2\"]\n",
    "test[\"PC2\"] = -test[\"PC2\"] # fit legend better\n",
    "test[\"color\"] = pdf_class\n",
    "\n",
    "plt.rcParams[\"axes.labelsize\"] = 10\n",
    "# Set font properties globally using rcParams\n",
    "plt.rcParams.update({'font.weight': 'bold', 'axes.labelweight': 'bold', 'axes.titleweight': 'bold', 'font.size': 10})\n",
    "fig, ax = plt.subplots(figsize=(3, 3))\n",
    "\n",
    "sns.scatterplot(data=test, x=\"PC1\", y=\"PC2\", hue=\"color\", ax=ax) # sizes=100,\n",
    "\n",
    "for group in test[\"color\"].unique():\n",
    "    tmp = test[test[\"color\"]==group]\n",
    "    x, y = tmp[\"PC1\"], tmp[\"PC2\"]\n",
    "    cov = np.cov(x, y)\n",
    "    val, rot = np.linalg.eig(cov)\n",
    "    val = np.sqrt(val)\n",
    "    center = np.mean([x, y], axis=1)[:, None]\n",
    "    t = np.linspace(0, 2.0 * np.pi, 1000)\n",
    "    xy = np.stack((np.cos(t), np.sin(t)), axis=-1)\n",
    "    plt.plot(*(2 * rot @ (val * xy).T + center))\n",
    "plt.legend(loc='upper right', title=\"Category\", prop={'size': 8})"
   ]
  }
 ],
 "metadata": {
  "kernelspec": {
   "display_name": "Python 3 (ipykernel)",
   "language": "python",
   "name": "python3"
  },
  "language_info": {
   "codemirror_mode": {
    "name": "ipython",
    "version": 3
   },
   "file_extension": ".py",
   "mimetype": "text/x-python",
   "name": "python",
   "nbconvert_exporter": "python",
   "pygments_lexer": "ipython3",
   "version": "3.10.15"
  }
 },
 "nbformat": 4,
 "nbformat_minor": 5
}
