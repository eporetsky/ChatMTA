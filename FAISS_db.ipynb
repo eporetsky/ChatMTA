{
 "cells": [
  {
   "cell_type": "code",
   "execution_count": null,
   "id": "acbf6d3a",
   "metadata": {},
   "outputs": [],
   "source": [
    "import pickle\n",
    "from langchain.vectorstores import FAISS\n",
    "from langchain.text_splitter import RecursiveCharacterTextSplitter\n",
    "from langchain.embeddings.openai import OpenAIEmbeddings\n",
    "\n",
    "import os\n",
    "os.environ['OPENAI_API_KEY'] = 'key'"
   ]
  },
  {
   "cell_type": "code",
   "execution_count": null,
   "id": "7e6cb4f1",
   "metadata": {},
   "outputs": [],
   "source": [
    "with open('data_input/scipdf.pkl', 'rb') as handle:\n",
    "    pdf_dict = pickle.load(handle)"
   ]
  },
  {
   "cell_type": "code",
   "execution_count": null,
   "id": "4f1853c5",
   "metadata": {},
   "outputs": [],
   "source": [
    "for chunk_size in [250, 500, 750, 1000]:\n",
    "    text_splitter = RecursiveCharacterTextSplitter(chunk_size=chunk_size, chunk_overlap=int(chunk_size/10), keep_separator=False)\n",
    "\n",
    "    count = 0\n",
    "    for key, val in pdf_dict.items():\n",
    "        docs = []\n",
    "        metadata = []\n",
    "        for section in val[\"sections\"]:\n",
    "            # Only parsing the main text of each manuscript (sections)\n",
    "            splits = text_splitter.split_text(section[\"text\"])\n",
    "            docs.extend(splits)\n",
    "            source = key + \"|\" + section[\"heading\"]\n",
    "            for i in range(len(splits)):\n",
    "                metadata.append({\"source\": source + \"_\" + str(i), \"index\": count})\n",
    "                count += 1\n",
    "\n",
    "        ### The embedding function to use\n",
    "        embeddings = OpenAIEmbeddings()\n",
    "        db = FAISS.from_texts(docs, embeddings, metadatas=metadata)\n",
    "\n",
    "        ### Write the vector store object to disk\n",
    "        db.save_local(\"data_faiss/faiss_chunked/faiss_db_{}/{}\".format(chunk_size, key.replace(\".pdf\", \"\")))"
   ]
  },
  {
   "cell_type": "markdown",
   "id": "b794122a",
   "metadata": {},
   "source": [
    "# Generating the Abstract FAISS DBs"
   ]
  },
  {
   "cell_type": "code",
   "execution_count": null,
   "id": "0f121099",
   "metadata": {},
   "outputs": [],
   "source": [
    "text_splitter = RecursiveCharacterTextSplitter(chunk_size=1000, chunk_overlap=100, keep_separator=False)\n",
    "\n",
    "docs = []\n",
    "metadata = []\n",
    "for key, val in pdf_dict.items():\n",
    "    docs.extend([val[\"abstract\"]])\n",
    "    source = key + \"|abstract\"\n",
    "    metadata.extend([{\"source\": source}])\n",
    "    docs = [doc.replace(\"\\n\", \" \") for doc in docs]\n",
    "\n",
    "    # The embedding function to use\n",
    "    embeddings = OpenAIEmbeddings()\n",
    "    db = FAISS.from_texts(docs, embeddings, metadatas=metadata)\n",
    "\n",
    "    # Write the vector store object to disk\n",
    "    db.save_local(\"data_faiss/abstracts\")"
   ]
  }
 ],
 "metadata": {
  "kernelspec": {
   "display_name": "Python 3 (ipykernel)",
   "language": "python",
   "name": "python3"
  },
  "language_info": {
   "codemirror_mode": {
    "name": "ipython",
    "version": 3
   },
   "file_extension": ".py",
   "mimetype": "text/x-python",
   "name": "python",
   "nbconvert_exporter": "python",
   "pygments_lexer": "ipython3",
   "version": "3.11.5"
  }
 },
 "nbformat": 4,
 "nbformat_minor": 5
}
